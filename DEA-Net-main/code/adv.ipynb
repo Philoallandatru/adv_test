{
 "cells": [
  {
   "cell_type": "code",
   "execution_count": null,
   "metadata": {},
   "outputs": [],
   "source": [
    "import os\n",
    "import torch\n",
    "from torch.nn.parallel import DataParallel\n",
    "from torch.utils.data import DataLoader\n",
    "from torchvision.utils import save_image\n",
    "from tqdm import tqdm\n",
    "\n",
    "from utils import AverageMeter, pad_img, val_psnr, val_ssim\n",
    "from data import ValDataset\n",
    "from option import opt\n",
    "from model import Backbone"
   ]
  },
  {
   "cell_type": "code",
   "execution_count": null,
   "metadata": {},
   "outputs": [],
   "source": [
    "network = Backbone()\n",
    "network.cuda()\n",
    "dataset = \"OTS\"\n",
    "model_name = \"DEA-Net-CR\"\n",
    "pre_trained_model = \"PSNR3659_SSIM9897.pth\"\n",
    "ckpt = torch.load(os.path.join('../trained_models', dataset, pre_trained_model), map_location='cpu')\n",
    "network.load_state_dict(ckpt)"
   ]
  }
 ],
 "metadata": {
  "language_info": {
   "name": "python"
  },
  "orig_nbformat": 4
 },
 "nbformat": 4,
 "nbformat_minor": 2
}
